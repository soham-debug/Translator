{
 "cells": [
  {
   "cell_type": "code",
   "execution_count": 3,
   "metadata": {},
   "outputs": [],
   "source": [
    "from tkinter import *\n",
    "from tkinter import ttk\n",
    "from googletrans import Translator, LANGUAGES"
   ]
  },
  {
   "cell_type": "code",
   "execution_count": 19,
   "metadata": {},
   "outputs": [],
   "source": [
    "root = Tk()\n",
    "root.geometry('1100x320')\n",
    "root.resizable(0,0)\n",
    "root['bg'] = 'palegreen'\n",
    "\n",
    "root.title('Language Translator')\n",
    "Label(root, text = \"Language Translator\", font = \"Arial 20 bold\", bg = 'crimson').pack()\n",
    "Label(root, text = \"Enter Text\", font = 'arial 13 bold', bg = 'white smoke').place(x=165, y=90)\n",
    "Input_text = Entry(root, width=60)\n",
    "Input_text.place(x=30, y=130)\n",
    "Input_text.get()\n",
    "Label(root, text = \"Output\", font = 'arial 13 bold', bg='white smoke').place(x=800, y=70)\n",
    "Output_text = Text(root, font='arial 10', height = 11, wrap = WORD, padx = 5, pady = 5, width = 50)\n",
    "Output_text.place(x=650, y=100)\n",
    "language = list(LANGUAGES.values())\n",
    "dest_lang = ttk.Combobox(root, values = language, width = 22)\n",
    "dest_lang.place(x=130, y=160)\n",
    "dest_lang.set('choose language')\n",
    "\n",
    "def Translate():\n",
    "    translator = Translator()\n",
    "    translated = translator.translate(text=Input_text.get(), dest = dest_lang.get())\n",
    "    Output_text.delete(1.0, END)\n",
    "    Output_text.insert(END, translated.text)\n",
    "\n",
    "trans_btn = Button(root, text = 'Translate', font = 'arial 12 bold', pady = 5, command = Translate, bg = 'orange', activebackground='green')\n",
    "trans_btn.place(x=450, y=188)\n",
    "root.mainloop()"
   ]
  }
 ],
 "metadata": {
  "kernelspec": {
   "display_name": "base",
   "language": "python",
   "name": "python3"
  },
  "language_info": {
   "codemirror_mode": {
    "name": "ipython",
    "version": 3
   },
   "file_extension": ".py",
   "mimetype": "text/x-python",
   "name": "python",
   "nbconvert_exporter": "python",
   "pygments_lexer": "ipython3",
   "version": "3.12.4"
  }
 },
 "nbformat": 4,
 "nbformat_minor": 2
}
